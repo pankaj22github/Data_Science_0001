{
 "cells": [
  {
   "cell_type": "markdown",
   "id": "946c6b29",
   "metadata": {},
   "source": [
    "# Name: Pankaj Patel"
   ]
  },
  {
   "cell_type": "markdown",
   "id": "101fb39e",
   "metadata": {},
   "source": [
    "# Basic Python"
   ]
  },
  {
   "cell_type": "markdown",
   "id": "696d3eb5",
   "metadata": {},
   "source": [
    "### Write a Python program which accepts the user's first and last name and prints them in reverse order with a space between them."
   ]
  },
  {
   "cell_type": "code",
   "execution_count": 5,
   "id": "a01f2c2f",
   "metadata": {},
   "outputs": [
    {
     "name": "stdout",
     "output_type": "stream",
     "text": [
      "Enter your first name:pankaj\n",
      "Enter your last name:patel\n",
      "Hello patel pankaj\n"
     ]
    }
   ],
   "source": [
    "firstname = input(\"Enter your first name:\")\n",
    "lastname =  input(\"Enter your last name:\")\n",
    "print(\"Hello \"+lastname+\" \"+firstname)"
   ]
  },
  {
   "cell_type": "markdown",
   "id": "9d494c0b",
   "metadata": {},
   "source": [
    "### Write a Python program which accepts a sequence of comma-separated numbers from the user and generates a list and a tuple with those numbers. Sample data : 3, 5, 7, 23\n",
    "* Output : \n",
    "* List : ['3', ' 5', ' 7', ' 23']\n",
    "* Tuple : ('3', ' 5', ' 7', ' 23')"
   ]
  },
  {
   "cell_type": "code",
   "execution_count": 6,
   "id": "025cb921",
   "metadata": {},
   "outputs": [
    {
     "name": "stdout",
     "output_type": "stream",
     "text": [
      "Input some comma separated numbers:1,3,6,5,8\n",
      "List ['1', '3', '6', '5', '8']\n",
      "Tuple ('1', '3', '6', '5', '8')\n"
     ]
    }
   ],
   "source": [
    "number = input(\"Input some comma separated numbers:\")\n",
    "lst=number.split(\",\")\n",
    "tuple = tuple(lst)\n",
    "print(\"List\", lst)\n",
    "print(\"Tuple\", tuple)"
   ]
  },
  {
   "cell_type": "markdown",
   "id": "e961d06c",
   "metadata": {},
   "source": [
    "### Write a Python program to display the first and last colours from the following list.\n",
    "* color_list = [\"Red\",\"Green\",\"White\" ,\"Black\"]"
   ]
  },
  {
   "cell_type": "code",
   "execution_count": 6,
   "id": "0b036bee",
   "metadata": {},
   "outputs": [
    {
     "name": "stdout",
     "output_type": "stream",
     "text": [
      "First color: Red\n",
      "Last color: Black\n"
     ]
    }
   ],
   "source": [
    "list=[\"Red\",\"Green\",\"White\",\"Black\"]\n",
    "print(\"First color: \"+list[0]+\"\\n\"+\"Last color: \"+list[-1])"
   ]
  },
  {
   "cell_type": "markdown",
   "id": "b76e4dbd",
   "metadata": {},
   "source": [
    "### Write a Python program to print the documents (syntax, description etc.) of Python built-in function(s). \n",
    "* Sample function : abs() \n",
    "* Expected Result : mat \n",
    "* abs(number) -> number \n",
    "* Return the absolute value of the argument"
   ]
  },
  {
   "cell_type": "code",
   "execution_count": 20,
   "id": "ca813b03",
   "metadata": {},
   "outputs": [
    {
     "name": "stdout",
     "output_type": "stream",
     "text": [
      "Return the absolute value of the argument.\n",
      "Convert a string or number to a floating point number, if possible.\n"
     ]
    }
   ],
   "source": [
    "print(abs.__doc__)\n",
    "print(float.__doc__)"
   ]
  },
  {
   "cell_type": "markdown",
   "id": "8711c9d2",
   "metadata": {},
   "source": [
    "### Write a Python program to print the calendar of a given month and year.\n",
    "* Note : Use 'calendar' module."
   ]
  },
  {
   "cell_type": "code",
   "execution_count": 24,
   "id": "50bffd10",
   "metadata": {},
   "outputs": [
    {
     "name": "stdout",
     "output_type": "stream",
     "text": [
      "Enter the year: 2022\n",
      "Enter the month: 9\n",
      "   September 2022\n",
      "Mo Tu We Th Fr Sa Su\n",
      "          1  2  3  4\n",
      " 5  6  7  8  9 10 11\n",
      "12 13 14 15 16 17 18\n",
      "19 20 21 22 23 24 25\n",
      "26 27 28 29 30\n",
      "\n"
     ]
    }
   ],
   "source": [
    "import calendar\n",
    "year = int(input(\"Enter the year: \"))\n",
    "mon = int(input(\"Enter the month: \"))\n",
    "print(calendar.month(year,mon))"
   ]
  },
  {
   "cell_type": "markdown",
   "id": "caa6ee88",
   "metadata": {},
   "source": [
    "### Write a Python program to calculate number of days between two dates.\n",
    "* Sample dates : (2014, 7, 2), (2014, 7, 11)\n",
    "* Expected output : 9 days"
   ]
  },
  {
   "cell_type": "code",
   "execution_count": 28,
   "id": "b935704e",
   "metadata": {},
   "outputs": [
    {
     "name": "stdout",
     "output_type": "stream",
     "text": [
      "Number of Days between two dates: 9\n"
     ]
    }
   ],
   "source": [
    "from datetime import date\n",
    "F_date = date(2014,7,2)\n",
    "L_date=date(2014,7,11)\n",
    "diff=L_date-F_date\n",
    "print(\"Number of Days between two dates:\",diff.days)"
   ]
  },
  {
   "cell_type": "markdown",
   "id": "b0b8c6a9",
   "metadata": {},
   "source": [
    "### Write a Python program to check whether a specified value is contained in a group of values.\n",
    "* Test Data :\n",
    "* 3 -> [1, 5, 8, 3] : True\n",
    "* -1 -> [1, 5, 8, 3] : False "
   ]
  },
  {
   "cell_type": "code",
   "execution_count": 34,
   "id": "1298a403",
   "metadata": {},
   "outputs": [
    {
     "name": "stdout",
     "output_type": "stream",
     "text": [
      "True\n",
      "False\n"
     ]
    }
   ],
   "source": [
    "def is_group_member(group_data,n):\n",
    "    for value in group_data:\n",
    "        if n==value:\n",
    "            return True\n",
    "    return False\n",
    "print(is_group_member([1,5,8,3],3))\n",
    "print(is_group_member([1,5,8,3],-1))\n"
   ]
  },
  {
   "cell_type": "markdown",
   "id": "05cdfacb",
   "metadata": {},
   "source": [
    "### Write a Python program to create a histogram from a given list of integers."
   ]
  },
  {
   "cell_type": "code",
   "execution_count": 39,
   "id": "ddd4beb9",
   "metadata": {},
   "outputs": [
    {
     "name": "stdout",
     "output_type": "stream",
     "text": [
      "**\n",
      "*****\n",
      "********\n",
      "***************\n"
     ]
    }
   ],
   "source": [
    "def histogram(items):\n",
    "    for n in items:\n",
    "        output=''\n",
    "        times=n\n",
    "        while(times>0):\n",
    "            output+=\"*\"\n",
    "            times=times-1\n",
    "        print(output)\n",
    "\n",
    "histogram([2,5,8,15])"
   ]
  },
  {
   "cell_type": "markdown",
   "id": "6acabed4",
   "metadata": {},
   "source": [
    "### Write a Python program to concatenate all elements in a list into a string and return it."
   ]
  },
  {
   "cell_type": "code",
   "execution_count": 41,
   "id": "19eb5537",
   "metadata": {},
   "outputs": [
    {
     "name": "stdout",
     "output_type": "stream",
     "text": [
      "15pankaj96\n"
     ]
    }
   ],
   "source": [
    "def concatenate_list(list):\n",
    "    result=''\n",
    "    for element in list:\n",
    "        result+=str(element)\n",
    "    return result\n",
    "print(concatenate_list([1,5,\"pankaj\",96]))"
   ]
  },
  {
   "cell_type": "markdown",
   "id": "ca9b42ae",
   "metadata": {},
   "source": [
    "### Write a Python program to print out a set containing all the colors from color_list_1 which are not present in color_list_2.\n",
    "* **Test Data** :\n",
    "* color_list_1 = set([\"White\", \"Black\", \"Red\"])\n",
    "* color_list_2 = set([\"Red\", \"Green\"])\n",
    "* **Expected Output** :\n",
    "* {'Black', 'White'}"
   ]
  },
  {
   "cell_type": "code",
   "execution_count": 44,
   "id": "0431c46e",
   "metadata": {},
   "outputs": [
    {
     "name": "stdout",
     "output_type": "stream",
     "text": [
      "Difference of color_list_1 and color_list_2: {'Black', 'White'}\n"
     ]
    }
   ],
   "source": [
    "color_list_1=set([\"White\", \"Black\", \"Red\"])\n",
    "color_list_2=set([\"Red\",\"Green\"])\n",
    "print(\"Difference of color_list_1 and color_list_2:\",color_list_1.difference(color_list_2))"
   ]
  },
  {
   "cell_type": "markdown",
   "id": "eaf9c216",
   "metadata": {},
   "source": [
    "### Write a Python program to check whether a file exists"
   ]
  },
  {
   "cell_type": "code",
   "execution_count": 82,
   "id": "2aba83d8",
   "metadata": {},
   "outputs": [
    {
     "name": "stdout",
     "output_type": "stream",
     "text": [
      "True\n"
     ]
    }
   ],
   "source": [
    "import os.path\n",
    "print(os.path.isfile('main.py'))"
   ]
  },
  {
   "cell_type": "markdown",
   "id": "043c9a0f",
   "metadata": {},
   "source": [
    "### Write a python program to call an external command in Python"
   ]
  },
  {
   "cell_type": "code",
   "execution_count": 86,
   "id": "f8bf5229",
   "metadata": {},
   "outputs": [
    {
     "name": "stdout",
     "output_type": "stream",
     "text": [
      "4\n"
     ]
    }
   ],
   "source": [
    "import psutil\n",
    "print(psutil.cpu_count())"
   ]
  },
  {
   "cell_type": "markdown",
   "id": "fc1510b0",
   "metadata": {},
   "source": [
    "### Write a Python program to find out the number of CPUs using"
   ]
  },
  {
   "cell_type": "code",
   "execution_count": 87,
   "id": "6c6882f6",
   "metadata": {},
   "outputs": [
    {
     "name": "stdout",
     "output_type": "stream",
     "text": [
      "4\n"
     ]
    }
   ],
   "source": [
    "import multiprocessing\n",
    "print(multiprocessing.cpu_count())"
   ]
  },
  {
   "cell_type": "markdown",
   "id": "1495495f",
   "metadata": {},
   "source": [
    "### Write a Python program to list all files in a directory in Python"
   ]
  },
  {
   "cell_type": "code",
   "execution_count": 90,
   "id": "4cb2e113",
   "metadata": {},
   "outputs": [
    {
     "name": "stdout",
     "output_type": "stream",
     "text": [
      "['-1.14-windows.xml', '.angular-config.json', '.bash_history', '.boto', '.condarc', '.dbshell', '.gitconfig', '.lesshst', '.mongorc.js', '.node_repl_history', '.packettracer', 'Data Science 0001.ipynb', 'face-mask-dataset.zip', 'face-mask-detector-project.zip', 'main.py', 'NTUSER.DAT', 'ntuser.dat.LOG1', 'ntuser.dat.LOG2', 'NTUSER.DAT{78e6a3c6-3a52-11eb-9c9b-93b828ce514a}.TM.blf', 'NTUSER.DAT{78e6a3c6-3a52-11eb-9c9b-93b828ce514a}.TMContainer00000000000000000001.regtrans-ms', 'NTUSER.DAT{78e6a3c6-3a52-11eb-9c9b-93b828ce514a}.TMContainer00000000000000000002.regtrans-ms', 'ntuser.ini', 'test.py.ipynb', 'train.py.ipynb']\n"
     ]
    }
   ],
   "source": [
    "from os import listdir\n",
    "from os.path import isfile, join\n",
    "files_list = [f for f in listdir('C:\\\\Users\\\\Hiten') if isfile(join('C:\\\\Users\\\\Hiten', f))]\n",
    "print(files_list);"
   ]
  },
  {
   "cell_type": "markdown",
   "id": "e37e97ef",
   "metadata": {},
   "source": [
    "### Write a python program to access environment variables."
   ]
  },
  {
   "cell_type": "code",
   "execution_count": 91,
   "id": "ae5fae56",
   "metadata": {},
   "outputs": [
    {
     "name": "stdout",
     "output_type": "stream",
     "text": [
      "ALLUSERSPROFILE\n",
      "---------------\n",
      "C:\\ProgramData\n",
      "==============================\n",
      "APPDATA\n",
      "---------------\n",
      "C:\\Users\\Hiten\\AppData\\Roaming\n",
      "==============================\n",
      "COMMONPROGRAMFILES\n",
      "---------------\n",
      "C:\\Program Files\\Common Files\n",
      "==============================\n",
      "COMMONPROGRAMFILES(X86)\n",
      "---------------\n",
      "C:\\Program Files (x86)\\Common Files\n",
      "==============================\n",
      "COMMONPROGRAMW6432\n",
      "---------------\n",
      "C:\\Program Files\\Common Files\n",
      "==============================\n",
      "COMPUTERNAME\n",
      "---------------\n",
      "PANKAJ-PC\n",
      "==============================\n",
      "COMSPEC\n",
      "---------------\n",
      "C:\\WINDOWS\\system32\\cmd.exe\n",
      "==============================\n",
      "CONDA_DEFAULT_ENV\n",
      "---------------\n",
      "base\n",
      "==============================\n",
      "CONDA_EXE\n",
      "---------------\n",
      "C:\\Users\\Hiten\\anaconda3\\Scripts\\conda.exe\n",
      "==============================\n",
      "CONDA_PREFIX\n",
      "---------------\n",
      "C:\\Users\\Hiten\\anaconda3\n",
      "==============================\n",
      "CONDA_PROMPT_MODIFIER\n",
      "---------------\n",
      "(base) \n",
      "==============================\n",
      "CONDA_PYTHON_EXE\n",
      "---------------\n",
      "C:\\Users\\Hiten\\anaconda3\\python.exe\n",
      "==============================\n",
      "CONDA_SHLVL\n",
      "---------------\n",
      "1\n",
      "==============================\n",
      "DRIVERDATA\n",
      "---------------\n",
      "C:\\Windows\\System32\\Drivers\\DriverData\n",
      "==============================\n",
      "FPS_BROWSER_APP_PROFILE_STRING\n",
      "---------------\n",
      "Internet Explorer\n",
      "==============================\n",
      "FPS_BROWSER_USER_PROFILE_STRING\n",
      "---------------\n",
      "Default\n",
      "==============================\n",
      "HOMEDRIVE\n",
      "---------------\n",
      "C:\n",
      "==============================\n",
      "HOMEPATH\n",
      "---------------\n",
      "\\Users\\Hiten\n",
      "==============================\n",
      "JAVA_HOME\n",
      "---------------\n",
      "C:\\Java\\jdk-18.0.1\\bin\n",
      "==============================\n",
      "LOCALAPPDATA\n",
      "---------------\n",
      "C:\\Users\\Hiten\\AppData\\Local\n",
      "==============================\n",
      "LOGONSERVER\n",
      "---------------\n",
      "\\\\PANKAJ-PC\n",
      "==============================\n",
      "NUMBER_OF_PROCESSORS\n",
      "---------------\n",
      "4\n",
      "==============================\n",
      "ONEDRIVE\n",
      "---------------\n",
      "C:\\Users\\Hiten\\OneDrive\n",
      "==============================\n",
      "OS\n",
      "---------------\n",
      "Windows_NT\n",
      "==============================\n",
      "PATH\n",
      "---------------\n",
      "C:\\Users\\Hiten\\anaconda3;C:\\Users\\Hiten\\anaconda3\\Library\\mingw-w64\\bin;C:\\Users\\Hiten\\anaconda3\\Library\\usr\\bin;C:\\Users\\Hiten\\anaconda3\\Library\\bin;C:\\Users\\Hiten\\anaconda3\\Scripts;C:\\Users\\Hiten\\anaconda3\\bin;C:\\Users\\Hiten\\anaconda3\\condabin;C:\\Program Files\\Graphviz\\bin;C:\\Java\\jdk-18.0.1\\bin;C:\\Program Files\\Common Files\\Oracle\\Java\\javapath;C:\\Program Files (x86)\\Common Files\\Oracle\\Java\\javapath;C:\\Python310\\Scripts;C:\\Python310;C:\\ProgramData\\Oracle\\Java\\javapath;C:\\Program Files (x86)\\Intel\\iCLS Client;C:\\Program Files\\Intel\\iCLS Client;C:\\WINDOWS\\system32;C:\\WINDOWS;C:\\WINDOWS\\System32\\Wbem;C:\\WINDOWS\\System32\\WindowsPowerShell\\v1.0;C:\\Program Files (x86)\\Intel\\Intel(R) Management Engine Components\\DAL;C:\\Program Files\\Intel\\Intel(R) Management Engine Components\\DAL;C:\\Program Files (x86)\\Intel\\Intel(R) Management Engine Components\\IPT;C:\\Program Files\\Intel\\Intel(R) Management Engine Components\\IPT;C:\\Program Files (x86)\\Samsung\\Samsung PC Studio 3;C:\\WINDOWS\\System32\\OpenSSH;C:\\sqlite3;C:\\Program Files\\PuTTY;C:\\Program Files\\Git\\cmd;C:\\Program Files\\nodejs;C:\\ProgramData\\chocolatey\\bin;C:\\Program Files\\Graphviz\\bin;C:\\Program Files\\MongoDB\\Server\\5.0\\bin;C:\\Users\\Hiten\\AppData\\Local\\Microsoft\\WindowsApps;C:\\Users\\Hiten\\AppData\\Local\\Programs\\Microsoft VS Code\\bin;C:\\miktex\\miktex\\bin\\x64;C:\\Users\\Hiten\\AppData\\Roaming\\npm;C:\\Gcloud\\google-cloud-sdk\\bin;.\n",
      "==============================\n",
      "PATHEXT\n",
      "---------------\n",
      ".COM;.EXE;.BAT;.CMD;.VBS;.VBE;.JS;.JSE;.WSF;.WSH;.MSC;.PY;.PYW\n",
      "==============================\n",
      "PROCESSOR_ARCHITECTURE\n",
      "---------------\n",
      "AMD64\n",
      "==============================\n",
      "PROCESSOR_IDENTIFIER\n",
      "---------------\n",
      "Intel64 Family 6 Model 78 Stepping 3, GenuineIntel\n",
      "==============================\n",
      "PROCESSOR_LEVEL\n",
      "---------------\n",
      "6\n",
      "==============================\n",
      "PROCESSOR_REVISION\n",
      "---------------\n",
      "4e03\n",
      "==============================\n",
      "PROGRAMDATA\n",
      "---------------\n",
      "C:\\ProgramData\n",
      "==============================\n",
      "PROGRAMFILES\n",
      "---------------\n",
      "C:\\Program Files\n",
      "==============================\n",
      "PROGRAMFILES(X86)\n",
      "---------------\n",
      "C:\\Program Files (x86)\n",
      "==============================\n",
      "PROGRAMW6432\n",
      "---------------\n",
      "C:\\Program Files\n",
      "==============================\n",
      "PROMPT\n",
      "---------------\n",
      "(base) $P$G\n",
      "==============================\n",
      "PSMODULEPATH\n",
      "---------------\n",
      "C:\\Users\\Hiten\\Documents\\WindowsPowerShell\\Modules;C:\\Gcloud\\google-cloud-sdk\\platform\\PowerShell\n",
      "==============================\n",
      "PT8HOME\n",
      "---------------\n",
      "C:\\Program Files\\Cisco Packet Tracer 8.1.1\n",
      "==============================\n",
      "PUBLIC\n",
      "---------------\n",
      "C:\\Users\\Public\n",
      "==============================\n",
      "SESSIONNAME\n",
      "---------------\n",
      "Console\n",
      "==============================\n",
      "SYSTEMDRIVE\n",
      "---------------\n",
      "C:\n",
      "==============================\n",
      "SYSTEMROOT\n",
      "---------------\n",
      "C:\\WINDOWS\n",
      "==============================\n",
      "TEMP\n",
      "---------------\n",
      "C:\\Users\\Hiten\\AppData\\Local\\Temp\n",
      "==============================\n",
      "TMP\n",
      "---------------\n",
      "C:\\Users\\Hiten\\AppData\\Local\\Temp\n",
      "==============================\n",
      "USERDOMAIN\n",
      "---------------\n",
      "PANKAJ-PC\n",
      "==============================\n",
      "USERDOMAIN_ROAMINGPROFILE\n",
      "---------------\n",
      "PANKAJ-PC\n",
      "==============================\n",
      "USERNAME\n",
      "---------------\n",
      "Pankaj\n",
      "==============================\n",
      "USERPROFILE\n",
      "---------------\n",
      "C:\\Users\\Hiten\n",
      "==============================\n",
      "VBOX_MSI_INSTALL_PATH\n",
      "---------------\n",
      "C:\\Program Files\\Oracle\\VirtualBox\\\n",
      "==============================\n",
      "WINDIR\n",
      "---------------\n",
      "C:\\WINDOWS\n",
      "==============================\n",
      "JPY_INTERRUPT_EVENT\n",
      "---------------\n",
      "2148\n",
      "==============================\n",
      "IPY_INTERRUPT_EVENT\n",
      "---------------\n",
      "2148\n",
      "==============================\n",
      "JPY_PARENT_PID\n",
      "---------------\n",
      "2156\n",
      "==============================\n",
      "TERM\n",
      "---------------\n",
      "xterm-color\n",
      "==============================\n",
      "CLICOLOR\n",
      "---------------\n",
      "1\n",
      "==============================\n",
      "PAGER\n",
      "---------------\n",
      "cat\n",
      "==============================\n",
      "GIT_PAGER\n",
      "---------------\n",
      "cat\n",
      "==============================\n",
      "MPLBACKEND\n",
      "---------------\n",
      "module://ipykernel.pylab.backend_inline\n",
      "==============================\n"
     ]
    }
   ],
   "source": [
    "import os\n",
    "for data in os.environ:\n",
    "   print(data)\n",
    "   print('-'*15)\n",
    "   print(os.environ[data])\n",
    "   print('='*30)\n"
   ]
  },
  {
   "cell_type": "markdown",
   "id": "0a023aae",
   "metadata": {},
   "source": [
    "### Write a Python program to get the current username"
   ]
  },
  {
   "cell_type": "code",
   "execution_count": 92,
   "id": "9fc994e5",
   "metadata": {},
   "outputs": [
    {
     "name": "stdout",
     "output_type": "stream",
     "text": [
      "Pankaj\n"
     ]
    }
   ],
   "source": [
    "import getpass\n",
    "print(getpass.getuser())"
   ]
  },
  {
   "cell_type": "markdown",
   "id": "1a5eeff1",
   "metadata": {},
   "source": [
    "### Write a program to get execution time for a Python method."
   ]
  },
  {
   "cell_type": "code",
   "execution_count": 93,
   "id": "061776d6",
   "metadata": {},
   "outputs": [
    {
     "name": "stdout",
     "output_type": "stream",
     "text": [
      "\n",
      "Time to sum of 1 to  5  and required time to calculate is : (15, 0.0)\n"
     ]
    }
   ],
   "source": [
    "import time\n",
    "def sum_of_n_numbers(n):\n",
    "    start_time = time.time()\n",
    "    s = 0\n",
    "    for i in range(1,n+1):\n",
    "        s = s + i\n",
    "    end_time = time.time()\n",
    "    return s,end_time-start_time\n",
    "\n",
    "n = 5\n",
    "print(\"\\nTime to sum of 1 to \",n,\" and required time to calculate is :\",sum_of_n_numbers(n))\n"
   ]
  },
  {
   "cell_type": "markdown",
   "id": "00b69f55",
   "metadata": {},
   "source": [
    "### Write a Python program to get an absolute file path."
   ]
  },
  {
   "cell_type": "code",
   "execution_count": 94,
   "id": "b0485ac7",
   "metadata": {},
   "outputs": [
    {
     "name": "stdout",
     "output_type": "stream",
     "text": [
      "Absolute file path:  C:\\Users\\Hiten\\path_fname\n"
     ]
    }
   ],
   "source": [
    "def absolute_file_path(path_fname):\n",
    "        import os\n",
    "        return os.path.abspath('path_fname')        \n",
    "print(\"Absolute file path: \",absolute_file_path(\"test.txt\"))\n"
   ]
  },
  {
   "cell_type": "markdown",
   "id": "ba529679",
   "metadata": {},
   "source": [
    "### Write a Python program to get file creation and modification date/times."
   ]
  },
  {
   "cell_type": "code",
   "execution_count": 96,
   "id": "b454de4e",
   "metadata": {},
   "outputs": [
    {
     "name": "stdout",
     "output_type": "stream",
     "text": [
      "Last modified: Mon Aug  8 15:35:58 2022\n",
      "Created: Mon Aug  8 15:35:32 2022\n"
     ]
    }
   ],
   "source": [
    "import os.path, time\n",
    "print(\"Last modified: %s\" % time.ctime(os.path.getmtime(\"main.py\")))\n",
    "print(\"Created: %s\" % time.ctime(os.path.getctime(\"main.py\")))"
   ]
  },
  {
   "cell_type": "markdown",
   "id": "ae860d71",
   "metadata": {},
   "source": [
    "### Write a Python program to sort three integers without using conditional statements and loops."
   ]
  },
  {
   "cell_type": "code",
   "execution_count": 98,
   "id": "f071ffa0",
   "metadata": {},
   "outputs": [
    {
     "name": "stdout",
     "output_type": "stream",
     "text": [
      "Input first number: 6\n",
      "Input second number: 3\n",
      "Input third number: 9\n",
      "Numbers in sorted order:  3 6 9\n"
     ]
    }
   ],
   "source": [
    "x = int(input(\"Input first number: \"))\n",
    "y = int(input(\"Input second number: \"))\n",
    "z = int(input(\"Input third number: \"))\n",
    "\n",
    "a1 = min(x, y, z)\n",
    "a3 = max(x, y, z)\n",
    "a2 = (x + y + z) - a1 - a3\n",
    "print(\"Numbers in sorted order: \", a1, a2, a3)"
   ]
  },
  {
   "cell_type": "markdown",
   "id": "ecc6dc2b",
   "metadata": {},
   "source": [
    "### Write a Python program to sort files by date."
   ]
  },
  {
   "cell_type": "code",
   "execution_count": 101,
   "id": "33fd763b",
   "metadata": {},
   "outputs": [
    {
     "name": "stdout",
     "output_type": "stream",
     "text": [
      "train.py.ipynb\n",
      "test.py.ipynb\n",
      "Data Science 0001.ipynb\n"
     ]
    }
   ],
   "source": [
    "import glob\n",
    "import os\n",
    "\n",
    "files = glob.glob(\"*.ipynb\")\n",
    "files.sort(key=os.path.getmtime)\n",
    "print(\"\\n\".join(files))"
   ]
  },
  {
   "cell_type": "markdown",
   "id": "93145f93",
   "metadata": {},
   "source": [
    "### Write a Python program to get the command-line arguments (name of the script, the number of arguments, arguments) passed to a script"
   ]
  },
  {
   "cell_type": "code",
   "execution_count": 102,
   "id": "c125499f",
   "metadata": {},
   "outputs": [
    {
     "name": "stdout",
     "output_type": "stream",
     "text": [
      "This is the name/path of the script:\n",
      "Number of arguments: 3\n",
      "Argument List: ['C:\\\\Users\\\\Hiten\\\\anaconda3\\\\lib\\\\site-packages\\\\ipykernel_launcher.py', '-f', 'C:\\\\Users\\\\Hiten\\\\AppData\\\\Roaming\\\\jupyter\\\\runtime\\\\kernel-f1c07b8f-4337-41af-9522-e5f97c6fcb41.json']\n"
     ]
    }
   ],
   "source": [
    "import sys\n",
    "print(\"This is the name/path of the script:\"),sys.argv[0]\n",
    "print(\"Number of arguments:\",len(sys.argv))\n",
    "print(\"Argument List:\",str(sys.argv))"
   ]
  },
  {
   "cell_type": "markdown",
   "id": "ec69fd81",
   "metadata": {},
   "source": [
    "### Write a Python program to find the available built-in modules."
   ]
  },
  {
   "cell_type": "code",
   "execution_count": 103,
   "id": "7b5cf1cd",
   "metadata": {},
   "outputs": [
    {
     "name": "stdout",
     "output_type": "stream",
     "text": [
      "_abc, _ast, _bisect, _blake2, _codecs, _codecs_cn, _codecs_hk,\n",
      "_codecs_iso2022, _codecs_jp, _codecs_kr, _codecs_tw, _collections,\n",
      "_contextvars, _csv, _datetime, _functools, _heapq, _imp, _io, _json,\n",
      "_locale, _lsprof, _md5, _multibytecodec, _opcode, _operator, _pickle,\n",
      "_random, _sha1, _sha256, _sha3, _sha512, _signal, _sre, _stat,\n",
      "_statistics, _string, _struct, _symtable, _thread, _tracemalloc,\n",
      "_warnings, _weakref, _winapi, _xxsubinterpreters, array, atexit,\n",
      "audioop, binascii, builtins, cmath, errno, faulthandler, gc,\n",
      "itertools, marshal, math, mmap, msvcrt, nt, parser, sys, time, winreg,\n",
      "xxsubtype, zlib\n"
     ]
    }
   ],
   "source": [
    "import sys\n",
    "import textwrap\n",
    "module_name = ', '.join(sorted(sys.builtin_module_names))\n",
    "print(textwrap.fill(module_name, width=70))"
   ]
  },
  {
   "cell_type": "markdown",
   "id": "b0f96e8d",
   "metadata": {},
   "source": [
    "### Write a Python program to get the size of an object in bytes."
   ]
  },
  {
   "cell_type": "code",
   "execution_count": 104,
   "id": "16ea139d",
   "metadata": {},
   "outputs": [
    {
     "name": "stdout",
     "output_type": "stream",
     "text": [
      "Size of  one = 52 bytes\n",
      "Size of  four = 53 bytes\n",
      "Size of  three = 54 bytes\n",
      "Size of 0 = 24 bytes\n",
      "Size of 112 =28 bytes\n",
      "Size of [1, 2, 3, 'Red', 'Black'] = 96  bytes\n",
      "Size of ('Red', [8, 4, 6], (1, 2, 3)) = 64  bytes\n",
      "Size of {'apple', 'orange', 'pear'} = 216  bytes\n",
      "Size of {'Name': 'David', 'Age': 6, 'Class': 'First'} = 216  bytes\n"
     ]
    }
   ],
   "source": [
    "import sys\n",
    "str1 = \"one\"\n",
    "str2 = \"four\"\n",
    "str3 = \"three\"\n",
    "x = 0\n",
    "y = 112\n",
    "z = 122.56\n",
    "print(\"Size of \",str1,\"=\",str(sys.getsizeof(str1))+ \" bytes\")\n",
    "print(\"Size of \",str2,\"=\",str(sys.getsizeof(str2))+ \" bytes\")\n",
    "print(\"Size of \",str3,\"=\",str(sys.getsizeof(str3))+ \" bytes\")\n",
    "print(\"Size of\",x,\"=\",str(sys.getsizeof(x))+ \" bytes\")\n",
    "print(\"Size of\" ,y,\"=\"+str(sys.getsizeof(y))+ \" bytes\")\n",
    "L = [1, 2, 3, 'Red', 'Black']\n",
    "print(\"Size of\",L,\"=\",sys.getsizeof(L),\" bytes\")\n",
    "T = (\"Red\", [8, 4, 6], (1, 2, 3))\n",
    "print(\"Size of\",T,\"=\",sys.getsizeof(T),\" bytes\")\n",
    "S = {'apple', 'orange', 'apple', 'pear'}\n",
    "print(\"Size of\",S,\"=\",sys.getsizeof(S),\" bytes\")\n",
    "D = {'Name': 'David', 'Age': 6, 'Class': 'First'}\n",
    "print(\"Size of\",D,\"=\",sys.getsizeof(S),\" bytes\")\n"
   ]
  },
  {
   "cell_type": "markdown",
   "id": "f5aac3e6",
   "metadata": {},
   "source": [
    "### Write a Python program to get the current value of the recursion limit."
   ]
  },
  {
   "cell_type": "code",
   "execution_count": 105,
   "id": "a3beed36",
   "metadata": {},
   "outputs": [
    {
     "name": "stdout",
     "output_type": "stream",
     "text": [
      "\n",
      "Current value of the recursion limit:\n",
      "3000\n",
      "\n"
     ]
    }
   ],
   "source": [
    "import sys\n",
    "print()\n",
    "print(\"Current value of the recursion limit:\")\n",
    "print(sys.getrecursionlimit())\n",
    "print()"
   ]
  },
  {
   "cell_type": "markdown",
   "id": "197d6e1f",
   "metadata": {},
   "source": [
    "### Write a Python program to count the number occurrence of a specific character in a string."
   ]
  },
  {
   "cell_type": "code",
   "execution_count": 106,
   "id": "e052461c",
   "metadata": {},
   "outputs": [
    {
     "name": "stdout",
     "output_type": "stream",
     "text": [
      "Original string:\n",
      "The quick brown fox jumps over the lazy dog.\n",
      "Number of occurrence of 'o' in the said string:\n",
      "4\n"
     ]
    }
   ],
   "source": [
    "s = \"The quick brown fox jumps over the lazy dog.\"  \n",
    "print(\"Original string:\")\n",
    "print(s)\n",
    "print(\"Number of occurrence of 'o' in the said string:\")\n",
    "print(s.count(\"o\"))"
   ]
  },
  {
   "cell_type": "markdown",
   "id": "5d90a86c",
   "metadata": {},
   "source": [
    "### Write a Python program to get the system time."
   ]
  },
  {
   "cell_type": "code",
   "execution_count": 107,
   "id": "aec37a72",
   "metadata": {},
   "outputs": [
    {
     "name": "stdout",
     "output_type": "stream",
     "text": [
      "\n",
      "Mon Aug  8 17:22:41 2022\n",
      "\n"
     ]
    }
   ],
   "source": [
    "import time\n",
    "print()\n",
    "print(time.ctime())\n",
    "print()"
   ]
  },
  {
   "cell_type": "markdown",
   "id": "7cdb9a9b",
   "metadata": {},
   "source": [
    "### Write a Python program to clear the screen or terminal."
   ]
  },
  {
   "cell_type": "code",
   "execution_count": 110,
   "id": "d82a377e",
   "metadata": {},
   "outputs": [],
   "source": [
    "import os\n",
    "import time\n",
    "\n",
    "os.system(\"ls\")\n",
    "time.sleep(2)"
   ]
  },
  {
   "cell_type": "markdown",
   "id": "43ee06de",
   "metadata": {},
   "source": [
    "### Write a Python program to get the name of the host on which the routine is running."
   ]
  },
  {
   "cell_type": "code",
   "execution_count": 111,
   "id": "45b73dae",
   "metadata": {},
   "outputs": [
    {
     "name": "stdout",
     "output_type": "stream",
     "text": [
      "Host name: PANKAJ-PC\n"
     ]
    }
   ],
   "source": [
    "import socket\n",
    "host_name = socket.gethostname()\n",
    "print(\"Host name:\", host_name)"
   ]
  },
  {
   "cell_type": "markdown",
   "id": "888b3264",
   "metadata": {},
   "source": [
    "### Write a Python program to access and print a URL's content to the console"
   ]
  },
  {
   "cell_type": "code",
   "execution_count": 112,
   "id": "e0527aba",
   "metadata": {},
   "outputs": [
    {
     "name": "stdout",
     "output_type": "stream",
     "text": [
      "b'<!doctype html>\\n<html>\\n<head>\\n    <title>Example Domain</title>\\n\\n    <meta charset=\"utf-8\" />\\n    <meta http-equiv=\"Content-type\" content=\"text/html; charset=utf-8\" />\\n    <meta name=\"viewport\" content=\"width=device-width, initial-scale=1\" />\\n    <style type=\"text/css\">\\n    body {\\n        background-color: #f0f0f2;\\n        margin: 0;\\n        padding: 0;\\n        font-family: -apple-system, system-ui, BlinkMacSystemFont, \"Segoe UI\", \"Open Sans\", \"Helvetica Neue\", Helvetica, Arial, sans-serif;\\n        \\n    }\\n    div {\\n        width: 600px;\\n        margin: 5em auto;\\n        padding: 2em;\\n        background-color: #fdfdff;\\n        border-radius: 0.5em;\\n        box-shadow: 2px 3px 7px 2px rgba(0,0,0,0.02);\\n    }\\n    a:link, a:visited {\\n        color: #38488f;\\n        text-decoration: none;\\n    }\\n    @media (max-width: 700px) {\\n        div {\\n            margin: 0 auto;\\n            width: auto;\\n        }\\n    }\\n    </style>    \\n</head>\\n\\n<body>\\n<div>\\n    <h1>Example Domain</h1>\\n    <p>This domain is for use in illustrative examples in documents. You may use this\\n    domain in literature without prior coordination or asking for permission.</p>\\n    <p><a href=\"https://www.iana.org/domains/example\">More information...</a></p>\\n</div>\\n</body>\\n</html>\\n'\n"
     ]
    }
   ],
   "source": [
    "from http.client import HTTPConnection\n",
    "conn = HTTPConnection(\"example.com\")\n",
    "conn.request(\"GET\", \"/\")  \n",
    "result = conn.getresponse()\n",
    "# retrieves the entire contents.  \n",
    "contents = result.read() \n",
    "print(contents)"
   ]
  },
  {
   "cell_type": "code",
   "execution_count": null,
   "id": "23507b25",
   "metadata": {},
   "outputs": [],
   "source": []
  }
 ],
 "metadata": {
  "kernelspec": {
   "display_name": "Python 3",
   "language": "python",
   "name": "python3"
  },
  "language_info": {
   "codemirror_mode": {
    "name": "ipython",
    "version": 3
   },
   "file_extension": ".py",
   "mimetype": "text/x-python",
   "name": "python",
   "nbconvert_exporter": "python",
   "pygments_lexer": "ipython3",
   "version": "3.8.8"
  }
 },
 "nbformat": 4,
 "nbformat_minor": 5
}
